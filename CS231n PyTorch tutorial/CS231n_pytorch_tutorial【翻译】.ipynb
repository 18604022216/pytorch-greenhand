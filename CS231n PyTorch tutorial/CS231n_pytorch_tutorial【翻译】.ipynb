{
 "cells": [
  {
   "cell_type": "code",
   "execution_count": 1,
   "metadata": {},
   "outputs": [],
   "source": [
    "%matplotlib inline"
   ]
  },
  {
   "cell_type": "markdown",
   "metadata": {},
   "source": [
    "训练一个MNIST分类器\n",
    "=====\n",
    "## 常规数据集，模型检查点，Fine-tune"
   ]
  },
  {
   "cell_type": "code",
   "execution_count": 2,
   "metadata": {},
   "outputs": [],
   "source": [
    "import torch\n",
    "import torch.nn as nn\n",
    "import torch.optim as optim\n",
    "import torch.nn.functional as F\n",
    "import torchvision\n",
    "import torchvision.transforms as transforms\n",
    "from torch.utils.data import Dataset, DataLoader\n",
    "import glob\n",
    "import os.path as osp\n",
    "import numpy as np\n",
    "from PIL import Image"
   ]
  },
  {
   "cell_type": "markdown",
   "metadata": {},
   "source": [
    "## 1. 常规数据集\n",
    "PyTorch 有很多内置的数据集，比如MNIST和CIFAR等。 在本教程内，我们将通过构造一个MNIST的类来展示如何构建一个你自己的数据集。\n",
    "使用这个链接下载minist的图片[this link](https://github.com/myleott/mnist_png/blob/master/mnist_png.tar.gz?raw=true)"
   ]
  },
  {
   "cell_type": "code",
   "execution_count": 3,
   "metadata": {},
   "outputs": [],
   "source": [
    "class MNIST(Dataset):\n",
    "    #为MNIST构造一个标准的data loader\n",
    "    def __init__(self,root,transform=None,preload=False):\n",
    "        \"\"\" 初始化MNIST数据集\n",
    "        参数:\n",
    "            - root: 数据集路径\n",
    "            - tranform: 标准的变换函数\n",
    "            - preload: 是否预先加载数据到内存中\n",
    "        \"\"\"\n",
    "        self.images = None\n",
    "        self.labels = None\n",
    "        self.filenames = []\n",
    "        self.root = root\n",
    "        self.transform = transform\n",
    "\n",
    "        #读取文件名\n",
    "        for i in range(10):\n",
    "            #读取 root/i/ 路径下的所有png图片\n",
    "            filenames = glob.glob(osp.join(root, str(i), '*.png'))\n",
    "            for fn in filenames:\n",
    "                self.filenames.append((fn, i)) #匹配(filename, label) \n",
    "                \n",
    "        #是否预先加载数据到内存中\n",
    "        if preload:\n",
    "            self._preload()\n",
    "            \n",
    "        self.len = len(self.filenames)\n",
    "                              \n",
    "    def _preload(self):\n",
    "        \"\"\"\n",
    "        预先加载数据到内存中\n",
    "        \"\"\"\n",
    "        self.labels = []\n",
    "        self.images = []\n",
    "        for image_fn, label in self.filenames:            \n",
    "            #加载图片\n",
    "            image = Image.open(image_fn)\n",
    "            #避免打开太多文件的bug\n",
    "            self.images.append(image.copy())\n",
    "            image.close()\n",
    "            self.labels.append(label)\n",
    "\n",
    "    def __getitem__(self, index):\n",
    "        \"\"\" 从数据集中取一个样本\n",
    "        \"\"\"\n",
    "        if self.images is not None:\n",
    "            #是否预加载了数据\n",
    "            image = self.images[index]\n",
    "            label = self.labels[index]\n",
    "        else:\n",
    "            #是否按需加载数据\n",
    "            image_fn, label = self.filenames[index]\n",
    "            image = Image.open(image_fn)\n",
    "            \n",
    "        # 可能会对样本使用变换操作，比如随机剪裁、whitening\n",
    "        if self.transform is not None:\n",
    "            image = self.transform(image)\n",
    "        # 返回图片和标签\n",
    "        return image, label\n",
    "\n",
    "    def __len__(self):\n",
    "        #数据集中样本的总数\n",
    "        return self.len"
   ]
  },
  {
   "cell_type": "code",
   "execution_count": 4,
   "metadata": {},
   "outputs": [],
   "source": [
    "# 创建MNIST训练集\n",
    "# transforms.ToTensor() 会自动将PIL图像转换成[0,1]之间的torch tensors\n",
    "\n",
    "trainset = MNIST(\n",
    "    root='mnist_png/training',\n",
    "    preload=True, transform=transforms.ToTensor(),\n",
    ")\n",
    "# 使用torch中的dataloader来迭代整个数据集\n",
    "trainset_loader = DataLoader(trainset, batch_size=64, shuffle=True, num_workers=1)\n",
    "\n",
    "# 加载测试集\n",
    "testset = MNIST(\n",
    "    root='mnist_png/testing',\n",
    "    preload=True, transform=transforms.ToTensor(),\n",
    ")\n",
    "# 使用torch中的dataloader来迭代整个数据集\n",
    "testset_loader = DataLoader(testset, batch_size=1000, shuffle=False, num_workers=1)"
   ]
  },
  {
   "cell_type": "code",
   "execution_count": 5,
   "metadata": {},
   "outputs": [
    {
     "name": "stdout",
     "output_type": "stream",
     "text": [
      "60000\n",
      "10000\n"
     ]
    }
   ],
   "source": [
    "print(len(trainset))\n",
    "print(len(testset))"
   ]
  },
  {
   "cell_type": "markdown",
   "metadata": {},
   "source": [
    "### 可视化数据集"
   ]
  },
  {
   "cell_type": "code",
   "execution_count": 6,
   "metadata": {},
   "outputs": [
    {
     "name": "stdout",
     "output_type": "stream",
     "text": [
      "tensor(3) tensor(8) tensor(4) tensor(4) tensor(0) tensor(2) tensor(7) tensor(9) tensor(2) tensor(7) tensor(6) tensor(9) tensor(6) tensor(6) tensor(1) tensor(9)\n"
     ]
    },
    {
     "data": {
      "image/png": "[encoded data removed]",
      "text/plain": [
       "<Figure size 432x288 with 1 Axes>"
      ]
     },
     "metadata": {},
     "output_type": "display_data"
    }
   ],
   "source": [
    "import matplotlib.pyplot as plt\n",
    "import numpy as np\n",
    "\n",
    "# 显示图片的函数\n",
    "def imshow(img):\n",
    "    npimg = img.numpy()\n",
    "    plt.imshow(np.transpose(npimg, (1, 2, 0)))\n",
    "\n",
    "# 获得一些随机的训练集图像\n",
    "dataiter = iter(trainset_loader)\n",
    "images, labels = dataiter.next()\n",
    "\n",
    "# 显示图片\n",
    "imshow(torchvision.utils.make_grid(images))\n",
    "# 打印标签\n",
    "print(' '.join('%5s' % labels[j] for j in range(16)))"
   ]
  },
  {
   "cell_type": "code",
   "execution_count": 7,
   "metadata": {},
   "outputs": [
    {
     "name": "stdout",
     "output_type": "stream",
     "text": [
      "cuda\n"
     ]
    }
   ],
   "source": [
    "# 如果有GPU则使用GPU，否则使用CPU\n",
    "use_cuda = torch.cuda.is_available()\n",
    "torch.manual_seed(123)\n",
    "device = torch.device(\"cuda\" if use_cuda else \"cpu\")\n",
    "print(device)"
   ]
  },
  {
   "cell_type": "markdown",
   "metadata": {},
   "source": [
    "### 定义一个卷积网络\n"
   ]
  },
  {
   "cell_type": "code",
   "execution_count": 8,
   "metadata": {},
   "outputs": [],
   "source": [
    "class Net(nn.Module):\n",
    "    def __init__(self):\n",
    "        super(Net, self).__init__()\n",
    "        self.conv1 = nn.Conv2d(1, 10, kernel_size=5)\n",
    "        self.conv2 = nn.Conv2d(10, 20, kernel_size=5)\n",
    "        self.conv2_drop = nn.Dropout2d()\n",
    "        self.fc1 = nn.Linear(320, 50)\n",
    "        self.fc2 = nn.Linear(50, 10)\n",
    "\n",
    "    def forward(self, x):\n",
    "        x = F.relu(F.max_pool2d(self.conv1(x), 2))\n",
    "        x = F.relu(F.max_pool2d(self.conv2_drop(self.conv2(x)), 2))\n",
    "        x = x.view(-1, 320)\n",
    "        x = F.relu(self.fc1(x))\n",
    "        x = F.dropout(x, training=self.training)\n",
    "        x = self.fc2(x)\n",
    "        return F.log_softmax(x, dim=1)\n",
    "\n",
    "model = Net().to(device)\n",
    "optimizer = optim.SGD(model.parameters(), lr=0.001, momentum=0.9)"
   ]
  },
  {
   "cell_type": "markdown",
   "metadata": {},
   "source": [
    "### 训练网络"
   ]
  },
  {
   "cell_type": "code",
   "execution_count": 9,
   "metadata": {},
   "outputs": [],
   "source": [
    "def train(epoch, log_interval=100):\n",
    "    model.train()  # 设定training模式\n",
    "    iteration = 0\n",
    "    for ep in range(epoch):\n",
    "        for batch_idx, (data, target) in enumerate(trainset_loader):\n",
    "            data, target = data.to(device), target.to(device)\n",
    "            optimizer.zero_grad()\n",
    "            output = model(data)\n",
    "            loss = F.nll_loss(output, target)\n",
    "            loss.backward()\n",
    "            optimizer.step()\n",
    "            if iteration % log_interval == 0:\n",
    "                print('Train Epoch: {} [{}/{} ({:.0f}%)]\\tLoss: {:.6f}'.format(\n",
    "                    ep, batch_idx * len(data), len(trainset_loader.dataset),\n",
    "                    100. * batch_idx / len(trainset_loader), loss.item()))\n",
    "            iteration += 1\n",
    "        test()"
   ]
  },
  {
   "cell_type": "code",
   "execution_count": 10,
   "metadata": {},
   "outputs": [],
   "source": [
    "def test():\n",
    "    model.eval()  # 设定evaluation模式\n",
    "    test_loss = 0\n",
    "    correct = 0\n",
    "    with torch.no_grad():\n",
    "        for data, target in testset_loader:\n",
    "            data, target = data.to(device), target.to(device)\n",
    "            output = model(data)\n",
    "            test_loss += F.nll_loss(output, target, size_average=False).item() # batch的loss求和\n",
    "            pred = output.max(1, keepdim=True)[1] # 得到最大log-probability的索引\n",
    "            correct += pred.eq(target.view_as(pred)).sum().item()\n",
    "\n",
    "    test_loss /= len(testset_loader.dataset)\n",
    "    print('\\nTest set: Average loss: {:.4f}, Accuracy: {}/{} ({:.0f}%)\\n'.format(\n",
    "        test_loss, correct, len(testset_loader.dataset),\n",
    "        100. * correct / len(testset_loader.dataset)))"
   ]
  },
  {
   "cell_type": "code",
   "execution_count": 11,
   "metadata": {},
   "outputs": [
    {
     "name": "stdout",
     "output_type": "stream",
     "text": [
      "Train Epoch: 0 [0/60000 (0%)]\tLoss: 2.290318\n",
      "Train Epoch: 0 [6400/60000 (11%)]\tLoss: 2.316085\n",
      "Train Epoch: 0 [12800/60000 (21%)]\tLoss: 2.284893\n",
      "Train Epoch: 0 [19200/60000 (32%)]\tLoss: 2.280910\n",
      "Train Epoch: 0 [25600/60000 (43%)]\tLoss: 2.222962\n",
      "Train Epoch: 0 [32000/60000 (53%)]\tLoss: 2.063124\n",
      "Train Epoch: 0 [38400/60000 (64%)]\tLoss: 1.928669\n",
      "Train Epoch: 0 [44800/60000 (75%)]\tLoss: 1.533078\n",
      "Train Epoch: 0 [51200/60000 (85%)]\tLoss: 1.378734\n",
      "Train Epoch: 0 [57600/60000 (96%)]\tLoss: 1.287658\n",
      "\n",
      "Test set: Average loss: 0.7227, Accuracy: 8182/10000 (82%)\n",
      "\n",
      "Train Epoch: 1 [3968/60000 (7%)]\tLoss: 0.586974\n",
      "Train Epoch: 1 [10368/60000 (17%)]\tLoss: 0.396407\n",
      "Train Epoch: 1 [16768/60000 (28%)]\tLoss: 0.664116\n",
      "Train Epoch: 1 [23168/60000 (39%)]\tLoss: 0.288208\n",
      "Train Epoch: 1 [29568/60000 (49%)]\tLoss: 0.380612\n",
      "Train Epoch: 1 [35968/60000 (60%)]\tLoss: 0.244317\n",
      "Train Epoch: 1 [42368/60000 (71%)]\tLoss: 0.311487\n",
      "Train Epoch: 1 [48768/60000 (81%)]\tLoss: 0.426600\n",
      "Train Epoch: 1 [55168/60000 (92%)]\tLoss: 0.160713\n",
      "\n",
      "Test set: Average loss: 0.2421, Accuracy: 9321/10000 (93%)\n",
      "\n",
      "Train Epoch: 2 [1536/60000 (3%)]\tLoss: 0.344512\n",
      "Train Epoch: 2 [7936/60000 (13%)]\tLoss: 0.199164\n",
      "Train Epoch: 2 [14336/60000 (24%)]\tLoss: 0.167362\n",
      "Train Epoch: 2 [20736/60000 (35%)]\tLoss: 0.098308\n",
      "Train Epoch: 2 [27136/60000 (45%)]\tLoss: 0.214045\n",
      "Train Epoch: 2 [33536/60000 (56%)]\tLoss: 0.186994\n",
      "Train Epoch: 2 [39936/60000 (67%)]\tLoss: 0.278072\n",
      "Train Epoch: 2 [46336/60000 (77%)]\tLoss: 0.155851\n",
      "Train Epoch: 2 [52736/60000 (88%)]\tLoss: 0.142708\n",
      "Train Epoch: 2 [59136/60000 (99%)]\tLoss: 0.167069\n",
      "\n",
      "Test set: Average loss: 0.1624, Accuracy: 9517/10000 (95%)\n",
      "\n",
      "Train Epoch: 3 [5504/60000 (9%)]\tLoss: 0.230907\n",
      "Train Epoch: 3 [11904/60000 (20%)]\tLoss: 0.146871\n",
      "Train Epoch: 3 [18304/60000 (30%)]\tLoss: 0.247295\n",
      "Train Epoch: 3 [24704/60000 (41%)]\tLoss: 0.211935\n",
      "Train Epoch: 3 [31104/60000 (52%)]\tLoss: 0.218358\n",
      "Train Epoch: 3 [37504/60000 (62%)]\tLoss: 0.268059\n",
      "Train Epoch: 3 [43904/60000 (73%)]\tLoss: 0.151768\n",
      "Train Epoch: 3 [50304/60000 (84%)]\tLoss: 0.081730\n",
      "Train Epoch: 3 [56704/60000 (94%)]\tLoss: 0.316837\n",
      "\n",
      "Test set: Average loss: 0.1233, Accuracy: 9633/10000 (96%)\n",
      "\n",
      "Train Epoch: 4 [3072/60000 (5%)]\tLoss: 0.179802\n",
      "Train Epoch: 4 [9472/60000 (16%)]\tLoss: 0.159560\n",
      "Train Epoch: 4 [15872/60000 (26%)]\tLoss: 0.101135\n",
      "Train Epoch: 4 [22272/60000 (37%)]\tLoss: 0.167334\n",
      "Train Epoch: 4 [28672/60000 (48%)]\tLoss: 0.043021\n",
      "Train Epoch: 4 [35072/60000 (58%)]\tLoss: 0.107718\n",
      "Train Epoch: 4 [41472/60000 (69%)]\tLoss: 0.159853\n",
      "Train Epoch: 4 [47872/60000 (80%)]\tLoss: 0.117049\n",
      "Train Epoch: 4 [54272/60000 (90%)]\tLoss: 0.020719\n",
      "\n",
      "Test set: Average loss: 0.1084, Accuracy: 9660/10000 (97%)\n",
      "\n"
     ]
    }
   ],
   "source": [
    "train(5)  # 训练5个epochs应该可以让你达到大约97%的准确率"
   ]
  },
  {
   "cell_type": "markdown",
   "metadata": {},
   "source": [
    "## 2. 模型的保存 (model checkpointing)\n",
    "\n",
    "现在我们有了一个训练好的模型\n",
    "\n",
    "显然我们不想每次使用的时候都重新训练\n",
    "\n",
    "尤其是当训练一个超大型的模型时，可能你会希望能够定期保存模型的检查点，以便于意外出现后退回到上一个检查点，或者仅仅是想测试不同训练模型的表现\n",
    "\n",
    "PyTorch中的Model checkpointing非常简单。首先，我们定义一个可以保存模型到磁盘中的辅助函数"
   ]
  },
  {
   "cell_type": "code",
   "execution_count": 12,
   "metadata": {},
   "outputs": [],
   "source": [
    "def save_checkpoint(checkpoint_path, model, optimizer):\n",
    "    state = {'state_dict': model.state_dict(),\n",
    "             'optimizer' : optimizer.state_dict()}\n",
    "    torch.save(state, checkpoint_path)\n",
    "    print('model saved to %s' % checkpoint_path)\n",
    "    \n",
    "def load_checkpoint(checkpoint_path, model, optimizer):\n",
    "    state = torch.load(checkpoint_path)\n",
    "    model.load_state_dict(state['state_dict'])\n",
    "    optimizer.load_state_dict(state['optimizer'])\n",
    "    print('model loaded from %s' % checkpoint_path)"
   ]
  },
  {
   "cell_type": "code",
   "execution_count": 13,
   "metadata": {},
   "outputs": [
    {
     "name": "stdout",
     "output_type": "stream",
     "text": [
      "\n",
      "Test set: Average loss: 2.3039, Accuracy: 1009/10000 (10%)\n",
      "\n"
     ]
    }
   ],
   "source": [
    "# 创建一个全新的模型\n",
    "model = Net().to(device)\n",
    "optimizer = optim.SGD(model.parameters(), lr=0.001, momentum=0.9)\n",
    "test()"
   ]
  },
  {
   "cell_type": "markdown",
   "metadata": {},
   "source": [
    "### 定义具有model checkpointing的训练迭代"
   ]
  },
  {
   "cell_type": "code",
   "execution_count": 14,
   "metadata": {},
   "outputs": [],
   "source": [
    "def train_save(epoch, save_interval, log_interval=100):\n",
    "    model.train()  # 设置training mode\n",
    "    iteration = 0\n",
    "    for ep in range(epoch):\n",
    "        for batch_idx, (data, target) in enumerate(trainset_loader):\n",
    "            data, target = data.to(device), target.to(device)\n",
    "            optimizer.zero_grad()\n",
    "            output = model(data)\n",
    "            loss = F.nll_loss(output, target)\n",
    "            loss.backward()\n",
    "            optimizer.step()\n",
    "            if iteration % log_interval == 0:\n",
    "                print('Train Epoch: {} [{}/{} ({:.0f}%)]\\tLoss: {:.6f}'.format(\n",
    "                    ep, batch_idx * len(data), len(trainset_loader.dataset),\n",
    "                    100. * batch_idx / len(trainset_loader), loss.item()))\n",
    "            #下边的两行代码是在实现checkpointing\n",
    "            if iteration % save_interval == 0 and iteration > 0:\n",
    "                save_checkpoint('mnist-%i.pth' % iteration, model, optimizer)\n",
    "            iteration += 1\n",
    "        test()\n",
    "    \n",
    "    # 保存最终模型。下面这一行代码和上面那两行是之前train()函数没有的\n",
    "    save_checkpoint('mnist-%i.pth' % iteration, model, optimizer)"
   ]
  },
  {
   "cell_type": "code",
   "execution_count": 15,
   "metadata": {},
   "outputs": [
    {
     "name": "stdout",
     "output_type": "stream",
     "text": [
      "Train Epoch: 0 [0/60000 (0%)]\tLoss: 2.309425\n",
      "Train Epoch: 0 [6400/60000 (11%)]\tLoss: 2.311844\n",
      "Train Epoch: 0 [12800/60000 (21%)]\tLoss: 2.285262\n",
      "Train Epoch: 0 [19200/60000 (32%)]\tLoss: 2.291898\n",
      "Train Epoch: 0 [25600/60000 (43%)]\tLoss: 2.272247\n",
      "Train Epoch: 0 [32000/60000 (53%)]\tLoss: 2.226420\n",
      "model saved to mnist-500.pth\n",
      "Train Epoch: 0 [38400/60000 (64%)]\tLoss: 2.003182\n",
      "Train Epoch: 0 [44800/60000 (75%)]\tLoss: 1.789296\n",
      "Train Epoch: 0 [51200/60000 (85%)]\tLoss: 1.462778\n",
      "Train Epoch: 0 [57600/60000 (96%)]\tLoss: 1.058149\n",
      "\n",
      "Test set: Average loss: 0.7510, Accuracy: 8155/10000 (82%)\n",
      "\n",
      "Train Epoch: 1 [3968/60000 (7%)]\tLoss: 0.547947\n",
      "model saved to mnist-1000.pth\n",
      "Train Epoch: 1 [10368/60000 (17%)]\tLoss: 0.438827\n",
      "Train Epoch: 1 [16768/60000 (28%)]\tLoss: 0.402794\n",
      "Train Epoch: 1 [23168/60000 (39%)]\tLoss: 0.447797\n",
      "Train Epoch: 1 [29568/60000 (49%)]\tLoss: 0.228236\n",
      "Train Epoch: 1 [35968/60000 (60%)]\tLoss: 0.514648\n",
      "model saved to mnist-1500.pth\n",
      "Train Epoch: 1 [42368/60000 (71%)]\tLoss: 0.437881\n",
      "Train Epoch: 1 [48768/60000 (81%)]\tLoss: 0.171729\n",
      "Train Epoch: 1 [55168/60000 (92%)]\tLoss: 0.210636\n",
      "\n",
      "Test set: Average loss: 0.2580, Accuracy: 9230/10000 (92%)\n",
      "\n",
      "Train Epoch: 2 [1536/60000 (3%)]\tLoss: 0.318818\n",
      "Train Epoch: 2 [7936/60000 (13%)]\tLoss: 0.288773\n",
      "model saved to mnist-2000.pth\n",
      "Train Epoch: 2 [14336/60000 (24%)]\tLoss: 0.109143\n",
      "Train Epoch: 2 [20736/60000 (35%)]\tLoss: 0.284534\n",
      "Train Epoch: 2 [27136/60000 (45%)]\tLoss: 0.163371\n",
      "Train Epoch: 2 [33536/60000 (56%)]\tLoss: 0.186088\n",
      "Train Epoch: 2 [39936/60000 (67%)]\tLoss: 0.077378\n",
      "model saved to mnist-2500.pth\n",
      "Train Epoch: 2 [46336/60000 (77%)]\tLoss: 0.219568\n",
      "Train Epoch: 2 [52736/60000 (88%)]\tLoss: 0.260827\n",
      "Train Epoch: 2 [59136/60000 (99%)]\tLoss: 0.237031\n",
      "\n",
      "Test set: Average loss: 0.1680, Accuracy: 9501/10000 (95%)\n",
      "\n",
      "Train Epoch: 3 [5504/60000 (9%)]\tLoss: 0.236185\n",
      "Train Epoch: 3 [11904/60000 (20%)]\tLoss: 0.368005\n",
      "model saved to mnist-3000.pth\n",
      "Train Epoch: 3 [18304/60000 (30%)]\tLoss: 0.126216\n",
      "Train Epoch: 3 [24704/60000 (41%)]\tLoss: 0.176269\n",
      "Train Epoch: 3 [31104/60000 (52%)]\tLoss: 0.206112\n",
      "Train Epoch: 3 [37504/60000 (62%)]\tLoss: 0.136330\n",
      "Train Epoch: 3 [43904/60000 (73%)]\tLoss: 0.134573\n",
      "model saved to mnist-3500.pth\n",
      "Train Epoch: 3 [50304/60000 (84%)]\tLoss: 0.164253\n",
      "Train Epoch: 3 [56704/60000 (94%)]\tLoss: 0.148974\n",
      "\n",
      "Test set: Average loss: 0.1309, Accuracy: 9606/10000 (96%)\n",
      "\n",
      "Train Epoch: 4 [3072/60000 (5%)]\tLoss: 0.095879\n",
      "Train Epoch: 4 [9472/60000 (16%)]\tLoss: 0.211031\n",
      "Train Epoch: 4 [15872/60000 (26%)]\tLoss: 0.109364\n",
      "model saved to mnist-4000.pth\n",
      "Train Epoch: 4 [22272/60000 (37%)]\tLoss: 0.156086\n",
      "Train Epoch: 4 [28672/60000 (48%)]\tLoss: 0.056230\n",
      "Train Epoch: 4 [35072/60000 (58%)]\tLoss: 0.060234\n",
      "Train Epoch: 4 [41472/60000 (69%)]\tLoss: 0.280228\n",
      "Train Epoch: 4 [47872/60000 (80%)]\tLoss: 0.072980\n",
      "model saved to mnist-4500.pth\n",
      "Train Epoch: 4 [54272/60000 (90%)]\tLoss: 0.043854\n",
      "\n",
      "Test set: Average loss: 0.1130, Accuracy: 9657/10000 (97%)\n",
      "\n",
      "model saved to mnist-4690.pth\n"
     ]
    }
   ],
   "source": [
    "train_save(5, 500, 100)"
   ]
  },
  {
   "cell_type": "code",
   "execution_count": 16,
   "metadata": {},
   "outputs": [
    {
     "name": "stdout",
     "output_type": "stream",
     "text": [
      "model loaded from mnist-4690.pth\n",
      "\n",
      "Test set: Average loss: 0.1130, Accuracy: 9657/10000 (97%)\n",
      "\n"
     ]
    }
   ],
   "source": [
    "# 创建一个新模型\n",
    "model = Net().to(device)\n",
    "optimizer = optim.SGD(model.parameters(), lr=0.001, momentum=0.9)\n",
    "# 从最终检查点加载\n",
    "load_checkpoint('mnist-4690.pth', model, optimizer)\n",
    "# accuracy应该就是最终模型的结果\n",
    "test()"
   ]
  },
  {
   "cell_type": "markdown",
   "metadata": {},
   "source": [
    "## 3. 模型Fine-tune\n",
    "\n",
    "有时我们希望在预训练模型的基础上fine-tune，而不是从头开始。\n",
    "\n",
    "比如，有时我们希望在全新的自然图像数据集上训练模型。\n",
    "\n",
    "为了获得最佳性能，我们可以从一个ImageNet预训练好的模型开始，并对模型进行微调。\n",
    "\n",
    "PyTorch中fine-tune模型是非常容易的！\n",
    "\n",
    "首先，让我们看看在checkpoint中都保存了什么"
   ]
  },
  {
   "cell_type": "code",
   "execution_count": 17,
   "metadata": {},
   "outputs": [
    {
     "name": "stdout",
     "output_type": "stream",
     "text": [
      "odict_keys(['conv1.weight', 'conv1.bias', 'conv2.weight', 'conv2.bias', 'fc1.weight', 'fc1.bias', 'fc2.weight', 'fc2.bias'])\n"
     ]
    }
   ],
   "source": [
    "# state dict中保存了什么？\n",
    "print(model.state_dict().keys())"
   ]
  },
  {
   "cell_type": "markdown",
   "metadata": {},
   "source": [
    "### Finetune全连接层\n",
    "\n",
    "现在我们想要从checkpoint中加载卷积层，再训练全连接层。\n",
    "我们可以通过加载特定state dict的子集来实现"
   ]
  },
  {
   "cell_type": "code",
   "execution_count": 18,
   "metadata": {},
   "outputs": [],
   "source": [
    "checkpoint = torch.load('mnist-4690.pth')\n",
    "states_to_load = {}\n",
    "for name, param in checkpoint['state_dict'].items():\n",
    "    #如果名字中有'conv'，则添加到states_to_load列表中\n",
    "    if name.startswith('conv'):\n",
    "        states_to_load[name] = param\n",
    "\n",
    "# 构建一个新的state dict，其中我们我们希望从checkpoint加载的层会从checkpoint加载参数\n",
    "model_state = model.state_dict()\n",
    "model_state.update(states_to_load)\n",
    "        \n",
    "model = Net().to(device)\n",
    "model.load_state_dict(model_state)\n",
    "optimizer = optim.SGD(model.parameters(), lr=0.001, momentum=0.9)"
   ]
  },
  {
   "cell_type": "code",
   "execution_count": 19,
   "metadata": {},
   "outputs": [
    {
     "name": "stdout",
     "output_type": "stream",
     "text": [
      "Train Epoch: 0 [0/60000 (0%)]\tLoss: 3.266330\n",
      "Train Epoch: 0 [6400/60000 (11%)]\tLoss: 0.718857\n",
      "Train Epoch: 0 [12800/60000 (21%)]\tLoss: 0.620336\n",
      "Train Epoch: 0 [19200/60000 (32%)]\tLoss: 0.607034\n",
      "Train Epoch: 0 [25600/60000 (43%)]\tLoss: 0.672607\n",
      "Train Epoch: 0 [32000/60000 (53%)]\tLoss: 0.520620\n",
      "Train Epoch: 0 [38400/60000 (64%)]\tLoss: 0.701537\n",
      "Train Epoch: 0 [44800/60000 (75%)]\tLoss: 0.444657\n",
      "Train Epoch: 0 [51200/60000 (85%)]\tLoss: 0.439578\n",
      "Train Epoch: 0 [57600/60000 (96%)]\tLoss: 0.386246\n",
      "\n",
      "Test set: Average loss: 0.1720, Accuracy: 9498/10000 (95%)\n",
      "\n"
     ]
    }
   ],
   "source": [
    "train(1)  # 训练一个epoch即可达到93%准确率"
   ]
  },
  {
   "cell_type": "markdown",
   "metadata": {},
   "source": [
    "### 在另一个不同模型中加载预训练权重\n",
    "\n",
    "我们甚至可以再另一个不同模型中加载卷积层预训练的权重"
   ]
  },
  {
   "cell_type": "code",
   "execution_count": 20,
   "metadata": {},
   "outputs": [],
   "source": [
    "class SmallNet(nn.Module):\n",
    "    def __init__(self):\n",
    "        super(SmallNet, self).__init__()\n",
    "        self.conv1 = nn.Conv2d(1, 10, kernel_size=5)\n",
    "        self.conv2 = nn.Conv2d(10, 20, kernel_size=5)\n",
    "        self.conv2_drop = nn.Dropout2d()\n",
    "        self.fc1 = nn.Linear(320, 10)\n",
    "\n",
    "    def forward(self, x):\n",
    "        x = F.relu(F.max_pool2d(self.conv1(x), 2))\n",
    "        x = F.relu(F.max_pool2d(self.conv2_drop(self.conv2(x)), 2))\n",
    "        x = x.view(-1, 320)\n",
    "        x = self.fc1(x)\n",
    "        return F.log_softmax(x, dim=1)\n",
    "\n",
    "model = SmallNet().to(device)\n",
    "optimizer = optim.SGD(model.parameters(), lr=0.001, momentum=0.9)"
   ]
  },
  {
   "cell_type": "code",
   "execution_count": 21,
   "metadata": {},
   "outputs": [],
   "source": [
    "checkpoint = torch.load('mnist-4690.pth')\n",
    "states_to_load = {}\n",
    "for name, param in checkpoint['state_dict'].items():\n",
    "    if name.startswith('conv'):\n",
    "        states_to_load[name] = param\n",
    "\n",
    "# 构造一个字典，其中想要导入预训练权重的层会使用checkpoint中的值\n",
    "\n",
    "model_state = model.state_dict()\n",
    "model_state.update(states_to_load)\n",
    "        \n",
    "model.load_state_dict(model_state)"
   ]
  },
  {
   "cell_type": "code",
   "execution_count": 22,
   "metadata": {},
   "outputs": [
    {
     "name": "stdout",
     "output_type": "stream",
     "text": [
      "Train Epoch: 0 [0/60000 (0%)]\tLoss: 5.529094\n",
      "Train Epoch: 0 [6400/60000 (11%)]\tLoss: 0.472251\n",
      "Train Epoch: 0 [12800/60000 (21%)]\tLoss: 0.519664\n",
      "Train Epoch: 0 [19200/60000 (32%)]\tLoss: 0.519803\n",
      "Train Epoch: 0 [25600/60000 (43%)]\tLoss: 0.271912\n",
      "Train Epoch: 0 [32000/60000 (53%)]\tLoss: 0.238663\n",
      "Train Epoch: 0 [38400/60000 (64%)]\tLoss: 0.333680\n",
      "Train Epoch: 0 [44800/60000 (75%)]\tLoss: 0.303371\n",
      "Train Epoch: 0 [51200/60000 (85%)]\tLoss: 0.273649\n",
      "Train Epoch: 0 [57600/60000 (96%)]\tLoss: 0.312762\n",
      "\n",
      "Test set: Average loss: 0.1689, Accuracy: 9499/10000 (95%)\n",
      "\n"
     ]
    }
   ],
   "source": [
    "train(1)  # 训练一个epoch就会达到93%准确率"
   ]
  },
  {
   "cell_type": "code",
   "execution_count": null,
   "metadata": {},
   "outputs": [],
   "source": []
  }
 ],
 "metadata": {
  "kernelspec": {
   "display_name": "QL",
   "language": "python",
   "name": "ql"
  },
  "language_info": {
   "codemirror_mode": {
    "name": "ipython",
    "version": 3
   },
   "file_extension": ".py",
   "mimetype": "text/x-python",
   "name": "python",
   "nbconvert_exporter": "python",
   "pygments_lexer": "ipython3",
   "version": "3.6.5"
  }
 },
 "nbformat": 4,
 "nbformat_minor": 2
}
