{
 "cells": [
  {
   "cell_type": "markdown",
   "metadata": {},
   "source": [
    "# 线性模型和梯度下降\n",
    "神经网络的第一课，一个非常简单的模型，线性回归，同时也会学习一个优化算法-梯度下降法，对这个模型进行优化。线性回归是监督学习里面一个非常简单的模型，同时梯度下降也是深度学习中应用最广的优化算法\n",
    "\n",
    "## 一元线性回归m\n",
    "\n",
    "一元线性模型，模型：   $$\\hat{y}_i = w x_i + b$$\n",
    "\n",
    "\n",
    "目标函数，  最小化： $$\\frac{1}{n} \\sum_{i=1}^n(\\hat{y}_i - y_i)^2$$\n",
    "\n",
    "\n",
    "如何最小化这个误差呢？  ——   **梯度下降**"
   ]
  },
  {
   "cell_type": "markdown",
   "metadata": {},
   "source": [
    "## 梯度下降法\n",
    "更新公式$$w := w - \\eta \\frac{\\partial f(w,\\ b)}{\\partial w} \\\\\n",
    "b := b - \\eta \\frac{\\partial f(w,\\ b)}{\\partial b}$$"
   ]
  },
  {
   "cell_type": "code",
   "execution_count": 51,
   "metadata": {},
   "outputs": [
    {
     "data": {
      "text/plain": [
       "<torch._C.Generator at 0x7f3d1c012430>"
      ]
     },
     "execution_count": 51,
     "metadata": {},
     "output_type": "execute_result"
    }
   ],
   "source": [
    "import torch as t\n",
    "import numpy as np\n",
    "import matplotlib.pyplot as plt\n",
    "%matplotlib inline\n",
    "from torch.autograd import Variable\n",
    "\n",
    "t.manual_seed(2018)"
   ]
  },
  {
   "cell_type": "code",
   "execution_count": 52,
   "metadata": {},
   "outputs": [
    {
     "data": {
      "text/plain": [
       "[<matplotlib.lines.Line2D at 0x7f3cd492af60>]"
      ]
     },
     "execution_count": 52,
     "metadata": {},
     "output_type": "execute_result"
    },
    {
     "data": {
      "image/png": "[encoded data removed]",
      "text/plain": [
       "<matplotlib.figure.Figure at 0x7f3cdcaf40f0>"
      ]
     },
     "metadata": {},
     "output_type": "display_data"
    }
   ],
   "source": [
    "#读取数据\n",
    "x_train = np.array([[4.4], [5.5], [6.71], [6.93], [4.168],\n",
    "                    [9.779], [6.182], [7.59], [2.167], [7.042],\n",
    "                    [10.791], [5.313], [7.997], [3.1]],dtype=np.float32)\n",
    "y_train = np.array([[2.76], [2.09], [3.19], [1.694], [1.573],\n",
    "                    [3.366], [2.596], [2.53], [1.221], [2.827],\n",
    "                    [3.465], [1.65], [2.904], [1.3]], dtype=np.float32)\n",
    "# 画出图像\n",
    "plt.plot(x_train,y_train, 'bo')"
   ]
  },
  {
   "cell_type": "code",
   "execution_count": 53,
   "metadata": {},
   "outputs": [],
   "source": [
    "#转换成tensor\n",
    "x_train = t.from_numpy(x_train)\n",
    "y_train = t.from_numpy(y_train)"
   ]
  },
  {
   "cell_type": "code",
   "execution_count": 54,
   "metadata": {},
   "outputs": [],
   "source": [
    "#定义参数w和b\n",
    "w = Variable(t.randn(1),requires_grad=True)#随机初始化\n",
    "b = Variable(t.zeros(1),requires_grad=True)#0初始化"
   ]
  },
  {
   "cell_type": "code",
   "execution_count": 55,
   "metadata": {},
   "outputs": [],
   "source": [
    "#构建线性回归模型\n",
    "x_train = Variable(x_train)\n",
    "y_train = Variable(y_train)\n",
    "\n",
    "def linear_model(x):\n",
    "    return x * w + b"
   ]
  },
  {
   "cell_type": "code",
   "execution_count": 56,
   "metadata": {},
   "outputs": [],
   "source": [
    "y_ = linear_model(x_train)"
   ]
  },
  {
   "cell_type": "code",
   "execution_count": 57,
   "metadata": {},
   "outputs": [
    {
     "data": {
      "text/plain": [
       "<matplotlib.legend.Legend at 0x7f3cd48b1748>"
      ]
     },
     "execution_count": 57,
     "metadata": {},
     "output_type": "execute_result"
    },
    {
     "data": {
      "image/png": "[encoded data removed]",
      "text/plain": [
       "<matplotlib.figure.Figure at 0x7f3cdd1a7668>"
      ]
     },
     "metadata": {},
     "output_type": "display_data"
    }
   ],
   "source": [
    "#可视化一下\n",
    "plt.plot(x_train.data.numpy(),y_train.data.numpy(),'bo',label='real')\n",
    "plt.plot(x_train.data.numpy(),y_.data.numpy(),'ro',label='estimated')\n",
    "plt.legend()"
   ]
  },
  {
   "cell_type": "code",
   "execution_count": 58,
   "metadata": {},
   "outputs": [
    {
     "name": "stdout",
     "output_type": "stream",
     "text": [
      "Variable containing:\n",
      " 47.9447\n",
      "[torch.FloatTensor of size 1]\n",
      "\n"
     ]
    }
   ],
   "source": [
    "#计算误差函数\n",
    "def get_loss(y_,y):\n",
    "    return t.mean((y_-y_train) ** 2)\n",
    "\n",
    "loss = get_loss(y_,y_train)\n",
    "\n",
    "#打印loss\n",
    "print(loss)"
   ]
  },
  {
   "cell_type": "code",
   "execution_count": 59,
   "metadata": {},
   "outputs": [],
   "source": [
    "#自动求导\n",
    "loss.backward()"
   ]
  },
  {
   "cell_type": "code",
   "execution_count": 60,
   "metadata": {},
   "outputs": [
    {
     "name": "stdout",
     "output_type": "stream",
     "text": [
      "Variable containing:\n",
      " 92.2214\n",
      "[torch.FloatTensor of size 1]\n",
      "\n",
      "Variable containing:\n",
      " 12.7840\n",
      "[torch.FloatTensor of size 1]\n",
      "\n"
     ]
    }
   ],
   "source": [
    "#查看 w 和 b 的梯度\n",
    "print(w.grad)\n",
    "print(b.grad)"
   ]
  },
  {
   "cell_type": "code",
   "execution_count": 61,
   "metadata": {},
   "outputs": [],
   "source": [
    "#更新参数\n",
    "w.data = w.data - 1e-4 * w.grad.data\n",
    "b.data = b.data - 1e-4 * b.grad.data"
   ]
  },
  {
   "cell_type": "code",
   "execution_count": 62,
   "metadata": {},
   "outputs": [
    {
     "data": {
      "text/plain": [
       "<matplotlib.legend.Legend at 0x7f3cd47d4a20>"
      ]
     },
     "execution_count": 62,
     "metadata": {},
     "output_type": "execute_result"
    },
    {
     "data": {
      "image/png": "[encoded data removed]",
      "text/plain": [
       "<matplotlib.figure.Figure at 0x7f3cd48ea4a8>"
      ]
     },
     "metadata": {},
     "output_type": "display_data"
    }
   ],
   "source": [
    "y_ = linear_model(x_train)\n",
    "plt.plot(x_train.data.numpy(), y_train.data.numpy(), 'bo', label='real')\n",
    "plt.plot(x_train.data.numpy(), y_.data.numpy(), 'ro', label='estimated')\n",
    "plt.legend()"
   ]
  },
  {
   "cell_type": "code",
   "execution_count": 64,
   "metadata": {},
   "outputs": [
    {
     "name": "stdout",
     "output_type": "stream",
     "text": [
      "epoch: 0, loss: 0.6557829976081848\n",
      "epoch: 1, loss: 0.27159371972084045\n",
      "epoch: 2, loss: 0.2680060565471649\n",
      "epoch: 3, loss: 0.2675665020942688\n",
      "epoch: 4, loss: 0.2671549618244171\n",
      "epoch: 5, loss: 0.26674553751945496\n",
      "epoch: 6, loss: 0.2663379907608032\n",
      "epoch: 7, loss: 0.26593247056007385\n",
      "epoch: 8, loss: 0.2655287981033325\n",
      "epoch: 9, loss: 0.265127032995224\n",
      "epoch: 10, loss: 0.26472708582878113\n",
      "epoch: 11, loss: 0.26432913541793823\n",
      "epoch: 12, loss: 0.263933002948761\n",
      "epoch: 13, loss: 0.26353877782821655\n",
      "epoch: 14, loss: 0.2631463408470154\n",
      "epoch: 15, loss: 0.26275578141212463\n",
      "epoch: 16, loss: 0.2623670697212219\n",
      "epoch: 17, loss: 0.26198020577430725\n",
      "epoch: 18, loss: 0.2615951597690582\n",
      "epoch: 19, loss: 0.26121196150779724\n",
      "epoch: 20, loss: 0.26083049178123474\n",
      "epoch: 21, loss: 0.2604508101940155\n",
      "epoch: 22, loss: 0.2600729763507843\n",
      "epoch: 23, loss: 0.25969693064689636\n",
      "epoch: 24, loss: 0.2593226134777069\n",
      "epoch: 25, loss: 0.2589500844478607\n",
      "epoch: 26, loss: 0.2585792541503906\n",
      "epoch: 27, loss: 0.25821027159690857\n",
      "epoch: 28, loss: 0.25784292817115784\n",
      "epoch: 29, loss: 0.257477343082428\n",
      "epoch: 30, loss: 0.257113516330719\n",
      "epoch: 31, loss: 0.2567513883113861\n",
      "epoch: 32, loss: 0.2563909888267517\n",
      "epoch: 33, loss: 0.25603222846984863\n",
      "epoch: 34, loss: 0.25567522644996643\n",
      "epoch: 35, loss: 0.25531983375549316\n",
      "epoch: 36, loss: 0.2549661099910736\n",
      "epoch: 37, loss: 0.25461411476135254\n",
      "epoch: 38, loss: 0.2542637884616852\n",
      "epoch: 39, loss: 0.253915011882782\n",
      "epoch: 40, loss: 0.25356796383857727\n",
      "epoch: 41, loss: 0.2532224953174591\n",
      "epoch: 42, loss: 0.25287872552871704\n",
      "epoch: 43, loss: 0.2525365650653839\n",
      "epoch: 44, loss: 0.25219595432281494\n",
      "epoch: 45, loss: 0.2518569529056549\n",
      "epoch: 46, loss: 0.2515195906162262\n",
      "epoch: 47, loss: 0.25118380784988403\n",
      "epoch: 48, loss: 0.2508496046066284\n",
      "epoch: 49, loss: 0.25051698088645935\n",
      "epoch: 50, loss: 0.25018590688705444\n",
      "epoch: 51, loss: 0.24985641241073608\n",
      "epoch: 52, loss: 0.24952846765518188\n",
      "epoch: 53, loss: 0.24920202791690826\n",
      "epoch: 54, loss: 0.24887719750404358\n",
      "epoch: 55, loss: 0.2485538125038147\n",
      "epoch: 56, loss: 0.24823200702667236\n",
      "epoch: 57, loss: 0.2479117065668106\n",
      "epoch: 58, loss: 0.24759291112422943\n",
      "epoch: 59, loss: 0.24727562069892883\n",
      "epoch: 60, loss: 0.24695982038974762\n",
      "epoch: 61, loss: 0.24664545059204102\n",
      "epoch: 62, loss: 0.24633266031742096\n",
      "epoch: 63, loss: 0.2460213303565979\n",
      "epoch: 64, loss: 0.24571140110492706\n",
      "epoch: 65, loss: 0.2454029768705368\n",
      "epoch: 66, loss: 0.24509602785110474\n",
      "epoch: 67, loss: 0.24479049444198608\n",
      "epoch: 68, loss: 0.24448634684085846\n",
      "epoch: 69, loss: 0.2441837191581726\n",
      "epoch: 70, loss: 0.24388247728347778\n",
      "epoch: 71, loss: 0.24358263611793518\n",
      "epoch: 72, loss: 0.24328425526618958\n",
      "epoch: 73, loss: 0.2429872453212738\n",
      "epoch: 74, loss: 0.24269163608551025\n",
      "epoch: 75, loss: 0.24239739775657654\n",
      "epoch: 76, loss: 0.24210458993911743\n",
      "epoch: 77, loss: 0.24181315302848816\n",
      "epoch: 78, loss: 0.24152305722236633\n",
      "epoch: 79, loss: 0.24123437702655792\n",
      "epoch: 80, loss: 0.24094702303409576\n",
      "epoch: 81, loss: 0.24066103994846344\n",
      "epoch: 82, loss: 0.24037639796733856\n",
      "epoch: 83, loss: 0.24009308218955994\n",
      "epoch: 84, loss: 0.23981110751628876\n",
      "epoch: 85, loss: 0.23953048884868622\n",
      "epoch: 86, loss: 0.23925116658210754\n",
      "epoch: 87, loss: 0.23897312581539154\n",
      "epoch: 88, loss: 0.23869644105434418\n",
      "epoch: 89, loss: 0.23842105269432068\n",
      "epoch: 90, loss: 0.23814699053764343\n",
      "epoch: 91, loss: 0.23787415027618408\n",
      "epoch: 92, loss: 0.2376026213169098\n",
      "epoch: 93, loss: 0.23733240365982056\n",
      "epoch: 94, loss: 0.2370634377002716\n",
      "epoch: 95, loss: 0.23679573833942413\n",
      "epoch: 96, loss: 0.23652927577495575\n",
      "epoch: 97, loss: 0.23626410961151123\n",
      "epoch: 98, loss: 0.23600013554096222\n",
      "epoch: 99, loss: 0.23573745787143707\n"
     ]
    }
   ],
   "source": [
    "for e in range(100):\n",
    "    y_ = linear_model(x_train)\n",
    "    loss = get_loss(y_,y_train)\n",
    "    \n",
    "    #归零梯度\n",
    "    w.grad.zero_() #归零梯度\n",
    "    b.grad.zero_() #归零梯度\n",
    "    loss.backward()\n",
    "    \n",
    "    #更新参数\n",
    "    w.data = w.data - 1e-2 * w.grad.data \n",
    "    b.data = b.data - 1e-2 * b.grad.data\n",
    "    \n",
    "    print('epoch: {}, loss: {}'.format(e, loss.data[0]))"
   ]
  },
  {
   "cell_type": "code",
   "execution_count": 65,
   "metadata": {},
   "outputs": [
    {
     "data": {
      "text/plain": [
       "<matplotlib.legend.Legend at 0x7f3cd4716438>"
      ]
     },
     "execution_count": 65,
     "metadata": {},
     "output_type": "execute_result"
    },
    {
     "data": {
      "image/png": "[encoded data removed]",
      "text/plain": [
       "<matplotlib.figure.Figure at 0x7f3cd486eda0>"
      ]
     },
     "metadata": {},
     "output_type": "display_data"
    }
   ],
   "source": [
    "y_ = linear_model(x_train)\n",
    "plt.plot(x_train.data.numpy(), y_train.data.numpy(), 'bo', label='real')\n",
    "plt.plot(x_train.data.numpy(), y_.data.numpy(), 'ro', label='estimated')\n",
    "plt.legend()"
   ]
  }
 ],
 "metadata": {
  "kernelspec": {
   "display_name": "QL",
   "language": "python",
   "name": "ql"
  },
  "language_info": {
   "codemirror_mode": {
    "name": "ipython",
    "version": 3
   },
   "file_extension": ".py",
   "mimetype": "text/x-python",
   "name": "python",
   "nbconvert_exporter": "python",
   "pygments_lexer": "ipython3",
   "version": "3.6.2"
  }
 },
 "nbformat": 4,
 "nbformat_minor": 2
}
