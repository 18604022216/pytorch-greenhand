{
 "cells": [
  {
   "cell_type": "markdown",
   "metadata": {},
   "source": [
    "# 正则化\n",
    "前面我们讲了数据增强和 dropout，而在实际使用中，现在的网络往往不使用 dropout，而是用另外一个技术，叫正则化。\n",
    "\n",
    "正则化是机器学习中提出来的一种方法，有 L1 和 L2 正则化，目前使用较多的是 L2 正则化，引入正则化相当于在 loss 函数上面加上一项，比如\n",
    "\n",
    "$$\n",
    "f = loss + \\lambda \\sum_{p \\in params} ||p||_2^2\n",
    "$$\n",
    "\n",
    "就是在 loss 的基础上加上了参数的二范数作为一个正则化，我们在训练网络的时候，不仅要最小化 loss 函数，同时还要最小化参数的二范数，也就是说我们会对参数做一些限制，不让它变得太大。"
   ]
  },
  {
   "cell_type": "markdown",
   "metadata": {},
   "source": [
    "如果我们对新的损失函数 f 求导进行梯度下降，就有\n",
    "\n",
    "$$\n",
    "\\frac{\\partial f}{\\partial p_j} = \\frac{\\partial loss}{\\partial p_j} + 2 \\lambda p_j\n",
    "$$\n",
    "\n",
    "那么在更新参数的时候就有\n",
    "\n",
    "$$\n",
    "p_j \\rightarrow p_j - \\eta (\\frac{\\partial loss}{\\partial p_j} + 2 \\lambda p_j) = p_j - \\eta \\frac{\\partial loss}{\\partial p_j} - 2 \\eta \\lambda p_j \n",
    "$$\n"
   ]
  },
  {
   "cell_type": "markdown",
   "metadata": {},
   "source": [
    "可以看到 $p_j - \\eta \\frac{\\partial loss}{\\partial p_j}$ 和没加正则项要更新的部分一样，而后面的 $2\\eta \\lambda p_j$ 就是正则项的影响，可以看到加完正则项之后会对参数做更大程度的更新，这也被称为权重衰减(weight decay)，在 pytorch 中正则项就是通过这种方式来加入的\n",
    "\n",
    "**比如想在随机梯度下降法中使用正则项，或者说权重衰减，`torch.optim.SGD(net.parameters(), lr=0.1, weight_decay=1e-4)` 就可以了，这个 `weight_decay` 系数就是上面公式中的 $\\lambda$，非常方便**\n",
    "\n",
    "注意正则项的系数的大小非常重要，如果太大，会极大的抑制参数的更新，导致欠拟合，如果太小，那么正则项这个部分基本没有贡献，所以选择一个合适的权重衰减系数非常重要，这个需要根据具体的情况去尝试，初步尝试可以使用 `1e-4` 或者 `1e-3` \n",
    "\n",
    "下面我们在训练 cifar 10 中添加正则项"
   ]
  },
  {
   "cell_type": "code",
   "execution_count": 2,
   "metadata": {},
   "outputs": [],
   "source": [
    "import sys\n",
    "sys.path.append('..')\n",
    "\n",
    "import numpy as np\n",
    "import torch\n",
    "from torch import nn\n",
    "import torch.nn.functional as F\n",
    "from torch.autograd import Variable\n",
    "from torchvision.datasets import CIFAR10\n",
    "from utils import train, resnet\n",
    "from torchvision import transforms as tfs\n",
    "import os\n",
    "os.environ[\"CUDA_VISIBLE_DEVICES\"] = \"1\""
   ]
  },
  {
   "cell_type": "code",
   "execution_count": 3,
   "metadata": {},
   "outputs": [],
   "source": [
    "def data_tf(x):\n",
    "    im_aug = tfs.Compose([\n",
    "        tfs.Resize(96),\n",
    "        tfs.ToTensor(),\n",
    "        tfs.Normalize([0.5, 0.5, 0.5], [0.5, 0.5, 0.5])\n",
    "    ])\n",
    "    x = im_aug(x)\n",
    "    return x\n",
    "\n",
    "train_set = CIFAR10('./data', train=True, transform=data_tf)\n",
    "train_data = torch.utils.data.DataLoader(train_set, batch_size=64, shuffle=True, num_workers=4)\n",
    "test_set = CIFAR10('./data', train=False, transform=data_tf)\n",
    "test_data = torch.utils.data.DataLoader(test_set, batch_size=128, shuffle=False, num_workers=4)\n",
    "\n",
    "net = resnet(3, 10)\n",
    "optimizer = torch.optim.SGD(net.parameters(), lr=0.01, weight_decay=1e-4) # 增加正则项\n",
    "criterion = nn.CrossEntropyLoss()"
   ]
  },
  {
   "cell_type": "code",
   "execution_count": 4,
   "metadata": {},
   "outputs": [
    {
     "name": "stdout",
     "output_type": "stream",
     "text": [
      "Epoch 0. Train Loss: 1.443598, Train Acc: 0.471547, Valid Loss: 2.138199, Valid Acc: 0.317544, Time 00:00:32\n",
      "Epoch 1. Train Loss: 1.007475, Train Acc: 0.641684, Valid Loss: 1.006600, Valid Acc: 0.637065, Time 00:00:34\n",
      "Epoch 2. Train Loss: 0.786242, Train Acc: 0.724724, Valid Loss: 2.709489, Valid Acc: 0.315566, Time 00:00:33\n",
      "Epoch 3. Train Loss: 0.629376, Train Acc: 0.780551, Valid Loss: 0.796113, Valid Acc: 0.727551, Time 00:00:34\n",
      "Epoch 4. Train Loss: 0.498258, Train Acc: 0.828225, Valid Loss: 1.016436, Valid Acc: 0.666436, Time 00:00:33\n",
      "Epoch 5. Train Loss: 0.387819, Train Acc: 0.866988, Valid Loss: 1.305392, Valid Acc: 0.635483, Time 00:00:33\n",
      "Epoch 6. Train Loss: 0.292677, Train Acc: 0.901075, Valid Loss: 1.265209, Valid Acc: 0.661392, Time 00:00:33\n",
      "Epoch 7. Train Loss: 0.220761, Train Acc: 0.925691, Valid Loss: 1.116513, Valid Acc: 0.697191, Time 00:00:33\n",
      "Epoch 8. Train Loss: 0.165191, Train Acc: 0.944513, Valid Loss: 1.515516, Valid Acc: 0.629450, Time 00:00:33\n",
      "Epoch 9. Train Loss: 0.131572, Train Acc: 0.955902, Valid Loss: 1.136820, Valid Acc: 0.700158, Time 00:00:34\n",
      "Epoch 10. Train Loss: 0.086232, Train Acc: 0.973386, Valid Loss: 1.462075, Valid Acc: 0.657832, Time 00:00:33\n",
      "Epoch 11. Train Loss: 0.064389, Train Acc: 0.980059, Valid Loss: 1.189860, Valid Acc: 0.712816, Time 00:00:33\n",
      "Epoch 12. Train Loss: 0.046645, Train Acc: 0.985794, Valid Loss: 2.158466, Valid Acc: 0.634889, Time 00:00:33\n",
      "Epoch 13. Train Loss: 0.044142, Train Acc: 0.986493, Valid Loss: 3.279828, Valid Acc: 0.450059, Time 00:00:33\n",
      "Epoch 14. Train Loss: 0.043564, Train Acc: 0.986633, Valid Loss: 1.075124, Valid Acc: 0.745748, Time 00:00:33\n",
      "Epoch 15. Train Loss: 0.026854, Train Acc: 0.992567, Valid Loss: 1.318966, Valid Acc: 0.706191, Time 00:00:33\n",
      "Epoch 16. Train Loss: 0.023419, Train Acc: 0.993506, Valid Loss: 3.198646, Valid Acc: 0.510977, Time 00:00:33\n",
      "Epoch 17. Train Loss: 0.030016, Train Acc: 0.990949, Valid Loss: 3.445870, Valid Acc: 0.523932, Time 00:00:33\n",
      "Epoch 18. Train Loss: 0.025631, Train Acc: 0.992447, Valid Loss: 1.175639, Valid Acc: 0.727650, Time 00:00:33\n",
      "Epoch 19. Train Loss: 0.018678, Train Acc: 0.994905, Valid Loss: 1.769457, Valid Acc: 0.640229, Time 00:00:33\n"
     ]
    }
   ],
   "source": [
    "from utils import train\n",
    "train(net, train_data, test_data, 20, optimizer, criterion)"
   ]
  },
  {
   "cell_type": "code",
   "execution_count": null,
   "metadata": {},
   "outputs": [],
   "source": []
  }
 ],
 "metadata": {
  "kernelspec": {
   "display_name": "QL",
   "language": "python",
   "name": "ql"
  },
  "language_info": {
   "codemirror_mode": {
    "name": "ipython",
    "version": 3
   },
   "file_extension": ".py",
   "mimetype": "text/x-python",
   "name": "python",
   "nbconvert_exporter": "python",
   "pygments_lexer": "ipython3",
   "version": "3.6.2"
  }
 },
 "nbformat": 4,
 "nbformat_minor": 2
}
